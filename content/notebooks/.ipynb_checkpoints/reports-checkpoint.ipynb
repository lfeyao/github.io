{
 "cells": [
  {
   "cell_type": "markdown",
   "metadata": {},
   "source": [
    "# Generate HTML reports with D3 graphs using Python, Plotly, and Pandas"
   ]
  },
  {
   "cell_type": "markdown",
   "metadata": {},
   "source": [
    "You can download the example report that this script generate from this link."
   ]
  },
  {
   "cell_type": "markdown",
   "metadata": {},
   "source": [
    "<a href=\"d3.js\">d3.js</a> is an amazing JavaScript library for creating interactive, online graphics and charts. Plotly lets you create d3.js charts using Python, R, or MATLAB. This IPython notebook shows you how to embed these charts in an HTML report that you can then share by email or <a href=\"\">host on a website</a>."
   ]
  },
  {
   "cell_type": "markdown",
   "metadata": {},
   "source": [
    "Once you've created your report generation script, you can automate it with a task scheduler like <a href=\"http://moderndata.plot.ly/update-plotly-charts-with-cron-jobs-and-python/\">cron</a> on a Ubuntu server, and even email it email it to yourself or your team with the Python <a href=\"https://docs.python.org/2/library/smtplib.html\">smtplib</a> library."
   ]
  },
  {
   "cell_type": "code",
   "execution_count": 1,
   "metadata": {
    "collapsed": false
   },
   "outputs": [],
   "source": [
    "import plotly as py\n",
    "import pandas as pd\n",
    "import numpy as np\n",
    "\n",
    "from datetime import datetime\n",
    "from datetime import time as dt_tm\n",
    "from datetime import date as dt_date\n",
    "\n",
    "import plotly.plotly as py\n",
    "import plotly.tools as plotly_tools\n",
    "from plotly.graph_objs import *\n",
    "\n",
    "import os\n",
    "import tempfile\n",
    "os.environ['MPLCONFIGDIR'] = tempfile.mkdtemp()\n",
    "from matplotlib.finance import quotes_historical_yahoo\n",
    "import matplotlib.pyplot as plt\n",
    "\n",
    "from scipy.stats import gaussian_kde\n",
    "\n",
    "from IPython.display import HTML\n",
    "\n",
    "py.sign_in(\"jackp\", \"XXXX\")"
   ]
  },
  {
   "cell_type": "markdown",
   "metadata": {},
   "source": [
    "## Step 1: Generate 2 graphs and 2 tables for report with Plotly Python client"
   ]
  },
  {
   "cell_type": "markdown",
   "metadata": {},
   "source": [
    "### First graph: 2014 Apple stock data with moving average"
   ]
  },
  {
   "cell_type": "markdown",
   "metadata": {},
   "source": [
    "Let's grab Apple stock data using the <a href=\"http://matplotlib.org/api/finance_api.html\">matplotlib finance</a> model from 2014, then take a moving average with a <a href=\"http://docs.scipy.org/doc/numpy/reference/generated/numpy.convolve.html\">numpy convolution</a>."
   ]
  },
  {
   "cell_type": "code",
   "execution_count": 3,
   "metadata": {
    "collapsed": false
   },
   "outputs": [
    {
     "name": "stderr",
     "output_type": "stream",
     "text": [
      "C:\\Anaconda3\\lib\\site-packages\\matplotlib\\finance.py:485: MatplotlibDeprecationWarning:\n",
      "\n",
      "This function has been deprecated in 1.4 in favor of `quotes_historical_yahoo_ochl`, which maintains the original argument order, or `quotes_historical_yahoo_ohlc`, which uses the open-high-low-close order. This function will be removed in 1.5\n",
      "\n"
     ]
    }
   ],
   "source": [
    "x = []\n",
    "y = []\n",
    "ma = []\n",
    "\n",
    "def moving_average(interval, window_size):\n",
    "    window = np.ones(int(window_size))/float(window_size)\n",
    "    return np.convolve(interval, window, 'same')\n",
    "\n",
    "date1 = dt_date( 2014, 1, 1 )\n",
    "date2 = dt_date( 2014, 12, 12 )\n",
    "quotes = quotes_historical_yahoo('AAPL', date1, date2)\n",
    "if len(quotes) == 0:\n",
    "    print(\"Couldn't connect to yahoo trading database\")\n",
    "else:\n",
    "    dates = [q[0] for q in quotes]\n",
    "    y = [q[1] for q in quotes]\n",
    "    for date in dates:\n",
    "        x.append(datetime.fromordinal(int(date))\\\n",
    "                .strftime('%Y-%m-%d')) # Plotly timestamp format\n",
    "    ma = moving_average(y, 10)"
   ]
  },
  {
   "cell_type": "markdown",
   "metadata": {},
   "source": [
    "Now graph the data with Plotly. See here for Plotly's <a href=\"https://plot.ly/python/line-and-scatter/\">line plot syntax</a> and here for <a href=\"https://plot.ly/python/getting-started/\">getting started</a> with the Plotly Python client."
   ]
  },
  {
   "cell_type": "code",
   "execution_count": 4,
   "metadata": {
    "collapsed": false
   },
   "outputs": [
    {
     "ename": "PlotlyDictKeyError",
     "evalue": "'opacity' is not allowed in 'line'\n\nPath To Error: ['opacity']\n\nValid attributes for 'line' at path [] under parents []:\n\n    ['dash', 'autocolorscale', 'colorsrc', 'cmin', 'reversescale',\n    'widthsrc', 'color', 'colorscale', 'cmax', 'shape', 'outlierwidth',\n    'width', 'outliercolor', 'smoothing', 'cauto']\n\nRun `<line-object>.help('attribute')` on any of the above.\n'<line-object>' is the object at []",
     "output_type": "error",
     "traceback": [
      "\u001b[1;31m---------------------------------------------------------------------------\u001b[0m",
      "\u001b[1;31mPlotlyDictKeyError\u001b[0m                        Traceback (most recent call last)",
      "\u001b[1;32m<ipython-input-4-d464e35145a2>\u001b[0m in \u001b[0;36m<module>\u001b[1;34m()\u001b[0m\n\u001b[0;32m      1\u001b[0m \u001b[0mxy_data\u001b[0m \u001b[1;33m=\u001b[0m \u001b[0mScatter\u001b[0m\u001b[1;33m(\u001b[0m \u001b[0mx\u001b[0m\u001b[1;33m=\u001b[0m\u001b[0mx\u001b[0m\u001b[1;33m,\u001b[0m \u001b[0my\u001b[0m\u001b[1;33m=\u001b[0m\u001b[0my\u001b[0m\u001b[1;33m,\u001b[0m \u001b[0mmode\u001b[0m\u001b[1;33m=\u001b[0m\u001b[1;34m'markers'\u001b[0m\u001b[1;33m,\u001b[0m \u001b[0mmarker\u001b[0m\u001b[1;33m=\u001b[0m\u001b[0mMarker\u001b[0m\u001b[1;33m(\u001b[0m\u001b[0msize\u001b[0m\u001b[1;33m=\u001b[0m\u001b[1;36m4\u001b[0m\u001b[1;33m)\u001b[0m\u001b[1;33m,\u001b[0m \u001b[0mname\u001b[0m\u001b[1;33m=\u001b[0m\u001b[1;34m'AAPL'\u001b[0m \u001b[1;33m)\u001b[0m\u001b[1;33m\u001b[0m\u001b[0m\n\u001b[0;32m      2\u001b[0m \u001b[1;31m# vvv clip first and last points of convolution\u001b[0m\u001b[1;33m\u001b[0m\u001b[1;33m\u001b[0m\u001b[0m\n\u001b[1;32m----> 3\u001b[1;33m \u001b[0mmov_avg\u001b[0m \u001b[1;33m=\u001b[0m \u001b[0mScatter\u001b[0m\u001b[1;33m(\u001b[0m \u001b[0mx\u001b[0m\u001b[1;33m=\u001b[0m\u001b[0mx\u001b[0m\u001b[1;33m[\u001b[0m\u001b[1;36m5\u001b[0m\u001b[1;33m:\u001b[0m\u001b[1;33m-\u001b[0m\u001b[1;36m4\u001b[0m\u001b[1;33m]\u001b[0m\u001b[1;33m,\u001b[0m \u001b[0my\u001b[0m\u001b[1;33m=\u001b[0m\u001b[0mma\u001b[0m\u001b[1;33m[\u001b[0m\u001b[1;36m5\u001b[0m\u001b[1;33m:\u001b[0m\u001b[1;33m-\u001b[0m\u001b[1;36m4\u001b[0m\u001b[1;33m]\u001b[0m\u001b[1;33m,\u001b[0m                   \u001b[0mline\u001b[0m\u001b[1;33m=\u001b[0m\u001b[0mLine\u001b[0m\u001b[1;33m(\u001b[0m\u001b[0mwidth\u001b[0m\u001b[1;33m=\u001b[0m\u001b[1;36m2\u001b[0m\u001b[1;33m,\u001b[0m\u001b[0mcolor\u001b[0m\u001b[1;33m=\u001b[0m\u001b[1;34m'red'\u001b[0m\u001b[1;33m,\u001b[0m\u001b[0mopacity\u001b[0m\u001b[1;33m=\u001b[0m\u001b[1;36m0.5\u001b[0m\u001b[1;33m)\u001b[0m\u001b[1;33m,\u001b[0m \u001b[0mname\u001b[0m\u001b[1;33m=\u001b[0m\u001b[1;34m'Moving average'\u001b[0m \u001b[1;33m)\u001b[0m\u001b[1;33m\u001b[0m\u001b[0m\n\u001b[0m\u001b[0;32m      4\u001b[0m \u001b[0mdata\u001b[0m \u001b[1;33m=\u001b[0m \u001b[0mData\u001b[0m\u001b[1;33m(\u001b[0m\u001b[1;33m[\u001b[0m\u001b[0mxy_data\u001b[0m\u001b[1;33m,\u001b[0m \u001b[0mmov_avg\u001b[0m\u001b[1;33m]\u001b[0m\u001b[1;33m)\u001b[0m\u001b[1;33m\u001b[0m\u001b[0m\n\u001b[0;32m      5\u001b[0m \u001b[1;33m\u001b[0m\u001b[0m\n",
      "\u001b[1;32mC:\\Anaconda3\\lib\\site-packages\\plotly\\graph_objs\\graph_objs.py\u001b[0m in \u001b[0;36m__init__\u001b[1;34m(self, *args, **kwargs)\u001b[0m\n\u001b[0;32m    373\u001b[0m         \u001b[0md\u001b[0m \u001b[1;33m=\u001b[0m \u001b[1;33m{\u001b[0m\u001b[0mkey\u001b[0m\u001b[1;33m:\u001b[0m \u001b[0mval\u001b[0m \u001b[1;32mfor\u001b[0m \u001b[0mkey\u001b[0m\u001b[1;33m,\u001b[0m \u001b[0mval\u001b[0m \u001b[1;32min\u001b[0m \u001b[0mdict\u001b[0m\u001b[1;33m(\u001b[0m\u001b[1;33m*\u001b[0m\u001b[0margs\u001b[0m\u001b[1;33m,\u001b[0m \u001b[1;33m**\u001b[0m\u001b[0mkwargs\u001b[0m\u001b[1;33m)\u001b[0m\u001b[1;33m.\u001b[0m\u001b[0mitems\u001b[0m\u001b[1;33m(\u001b[0m\u001b[1;33m)\u001b[0m\u001b[1;33m}\u001b[0m\u001b[1;33m\u001b[0m\u001b[0m\n\u001b[0;32m    374\u001b[0m         \u001b[1;32mfor\u001b[0m \u001b[0mkey\u001b[0m\u001b[1;33m,\u001b[0m \u001b[0mval\u001b[0m \u001b[1;32min\u001b[0m \u001b[0md\u001b[0m\u001b[1;33m.\u001b[0m\u001b[0mitems\u001b[0m\u001b[1;33m(\u001b[0m\u001b[1;33m)\u001b[0m\u001b[1;33m:\u001b[0m\u001b[1;33m\u001b[0m\u001b[0m\n\u001b[1;32m--> 375\u001b[1;33m             \u001b[0mself\u001b[0m\u001b[1;33m.\u001b[0m\u001b[0m__setitem__\u001b[0m\u001b[1;33m(\u001b[0m\u001b[0mkey\u001b[0m\u001b[1;33m,\u001b[0m \u001b[0mval\u001b[0m\u001b[1;33m,\u001b[0m \u001b[0m_raise\u001b[0m\u001b[1;33m=\u001b[0m\u001b[0m_raise\u001b[0m\u001b[1;33m)\u001b[0m\u001b[1;33m\u001b[0m\u001b[0m\n\u001b[0m\u001b[0;32m    376\u001b[0m \u001b[1;33m\u001b[0m\u001b[0m\n\u001b[0;32m    377\u001b[0m     \u001b[1;32mdef\u001b[0m \u001b[0m__dir__\u001b[0m\u001b[1;33m(\u001b[0m\u001b[0mself\u001b[0m\u001b[1;33m)\u001b[0m\u001b[1;33m:\u001b[0m\u001b[1;33m\u001b[0m\u001b[0m\n",
      "\u001b[1;32mC:\\Anaconda3\\lib\\site-packages\\plotly\\graph_objs\\graph_objs.py\u001b[0m in \u001b[0;36m__setitem__\u001b[1;34m(self, key, value, _raise)\u001b[0m\n\u001b[0;32m    424\u001b[0m                 \u001b[1;32mif\u001b[0m \u001b[0m_raise\u001b[0m\u001b[1;33m:\u001b[0m\u001b[1;33m\u001b[0m\u001b[0m\n\u001b[0;32m    425\u001b[0m                     \u001b[0mpath\u001b[0m \u001b[1;33m=\u001b[0m \u001b[0mself\u001b[0m\u001b[1;33m.\u001b[0m\u001b[0m_get_path\u001b[0m\u001b[1;33m(\u001b[0m\u001b[1;33m)\u001b[0m \u001b[1;33m+\u001b[0m \u001b[1;33m(\u001b[0m\u001b[0mkey\u001b[0m\u001b[1;33m,\u001b[0m \u001b[1;33m)\u001b[0m\u001b[1;33m\u001b[0m\u001b[0m\n\u001b[1;32m--> 426\u001b[1;33m                     \u001b[1;32mraise\u001b[0m \u001b[0mexceptions\u001b[0m\u001b[1;33m.\u001b[0m\u001b[0mPlotlyDictKeyError\u001b[0m\u001b[1;33m(\u001b[0m\u001b[0mself\u001b[0m\u001b[1;33m,\u001b[0m \u001b[0mpath\u001b[0m\u001b[1;33m)\u001b[0m\u001b[1;33m\u001b[0m\u001b[0m\n\u001b[0m\u001b[0;32m    427\u001b[0m                 \u001b[1;32mreturn\u001b[0m\u001b[1;33m\u001b[0m\u001b[0m\n\u001b[0;32m    428\u001b[0m \u001b[1;33m\u001b[0m\u001b[0m\n",
      "\u001b[1;31mPlotlyDictKeyError\u001b[0m: 'opacity' is not allowed in 'line'\n\nPath To Error: ['opacity']\n\nValid attributes for 'line' at path [] under parents []:\n\n    ['dash', 'autocolorscale', 'colorsrc', 'cmin', 'reversescale',\n    'widthsrc', 'color', 'colorscale', 'cmax', 'shape', 'outlierwidth',\n    'width', 'outliercolor', 'smoothing', 'cauto']\n\nRun `<line-object>.help('attribute')` on any of the above.\n'<line-object>' is the object at []"
     ]
    }
   ],
   "source": [
    "xy_data = Scatter( x=x, y=y, mode='markers', marker=Marker(size=4), name='AAPL' )\n",
    "# vvv clip first and last points of convolution\n",
    "mov_avg = Scatter( x=x[5:-4], y=ma[5:-4], \\\n",
    "                  line=Line(width=2,color='red',opacity=0.5), name='Moving average' )\n",
    "data = Data([xy_data, mov_avg])\n",
    "\n",
    "py.iplot(data, filename='apple stock moving average')"
   ]
  },
  {
   "cell_type": "markdown",
   "metadata": {},
   "source": [
    "Save the plot URL - we'll use it when generating the report later."
   ]
  },
  {
   "cell_type": "code",
   "execution_count": null,
   "metadata": {
    "collapsed": false
   },
   "outputs": [],
   "source": [
    "first_plot_url = py.plot(data, filename='apple stock moving average', auto_open=False,)\n",
    "print first_plot_url"
   ]
  },
  {
   "cell_type": "markdown",
   "metadata": {},
   "source": [
    "### Second graph: Scatter matrix of 2014 technology and CPG stocks"
   ]
  },
  {
   "cell_type": "markdown",
   "metadata": {},
   "source": [
    "Let's use the Pandas package and Plotly subplots to compare different tech. and CPG stocks in 2014.<br>\n",
    "This graph was inspired by <a href=\"http://nbviewer.ipython.org/github/twiecki/financial-analysis-python-tutorial/blob/master/1.%20Pandas%20Basics.ipynb\">this IPython notebook</a> and GitHub user <a href=\"https://github.com/twiecki\">twiecki</a>."
   ]
  },
  {
   "cell_type": "code",
   "execution_count": null,
   "metadata": {
    "collapsed": false
   },
   "outputs": [],
   "source": [
    "tickers = ['AAPL', 'GE', 'IBM', 'KO', 'MSFT', 'PEP']\n",
    "prices = []\n",
    "for ticker in tickers:\n",
    "    quotes = quotes_historical_yahoo(ticker, date1, date2)\n",
    "    prices.append( [q[1] for q in quotes] )"
   ]
  },
  {
   "cell_type": "markdown",
   "metadata": {},
   "source": [
    "We have all the stock prices in a list of lists - use the code snippet below to convert this into a Pandas dataframe."
   ]
  },
  {
   "cell_type": "code",
   "execution_count": null,
   "metadata": {
    "collapsed": false
   },
   "outputs": [],
   "source": [
    "df = pd.DataFrame( prices ).transpose()\n",
    "df.columns = tickers\n",
    "df.head()"
   ]
  },
  {
   "cell_type": "markdown",
   "metadata": {},
   "source": [
    "Use Plotly's <a href=\"https://plot.ly/python/overview/\">get_subplots()</a> routine to generate an empty matrix of 6x6 subplots. We'll fill these in by plotting all stock ticker combinations against each other (ie, General Electric stock versus Apple stock) "
   ]
  },
  {
   "cell_type": "code",
   "execution_count": null,
   "metadata": {
    "collapsed": false
   },
   "outputs": [],
   "source": [
    "fig = plotly_tools.get_subplots(rows=6, columns=6, print_grid=True, horizontal_spacing= 0.05, vertical_spacing= 0.05)"
   ]
  },
  {
   "cell_type": "code",
   "execution_count": null,
   "metadata": {
    "collapsed": false
   },
   "outputs": [],
   "source": [
    "def kde_scipy(x, x_grid, bandwidth=0.4, **kwargs):\n",
    "    \"\"\"Kernel Density Estimation with Scipy\"\"\"\n",
    "    # From https://jakevdp.github.io/blog/2013/12/01/kernel-density-estimation/\n",
    "    # Note that scipy weights its bandwidth by the covariance of the\n",
    "    # input data.  To make the results comparable to the other methods,\n",
    "    # we divide the bandwidth by the sample standard deviation here.\n",
    "    kde = gaussian_kde(x, bw_method=bandwidth / x.std(ddof=1), **kwargs)\n",
    "    return kde.evaluate(x_grid)\n",
    "\n",
    "subplots = range(1,37)\n",
    "sp_index = 0\n",
    "data = []\n",
    "for i in range(1,7):\n",
    "    x_ticker = df.columns[i-1]\n",
    "    for j in range(1,7):\n",
    "        y_ticker = df.columns[j-1]\n",
    "        if i==j: \n",
    "            x = df[x_ticker]\n",
    "            x_grid = np.linspace(x.min(), x.max(), 100)\n",
    "            sp = [ Histogram( x=x, histnorm='probability density' ), \\\n",
    "                  Scatter( x=x_grid, y=kde_scipy( x.as_matrix(), x_grid ), \\\n",
    "                          line=Line(width=2,color='red',opacity='0.5') ) ]\n",
    "        else:\n",
    "            sp = [ Scatter( x=df[x_ticker], y=df[y_ticker], mode='markers', marker=Marker(size=3) ) ]\n",
    "        \n",
    "        for ea in sp:\n",
    "            ea.update( name='{0} vs {1}'.format(x_ticker,y_ticker),\\\n",
    "                      xaxis='x{}'.format(subplots[sp_index]),\\\n",
    "                      yaxis='y{}'.format(subplots[sp_index])\n",
    "            )\n",
    "        sp_index+=1\n",
    "        data += sp\n",
    "\n",
    "# Add x and y labels\n",
    "left_index = 1\n",
    "bottom_index = 1\n",
    "for tk in tickers:\n",
    "    fig['layout']['xaxis{}'.format(left_index)].update( title=tk )\n",
    "    fig['layout']['yaxis{}'.format(bottom_index)].update( title=tk )\n",
    "    left_index=left_index+1\n",
    "    bottom_index=bottom_index+6\n",
    "    \n",
    "# Remove legend by updating 'layout' key\n",
    "fig['layout'].update(showlegend=False,height=1000,width=1000, title='Major technology and CPG stock prices in 2014')\n",
    "fig['data'] = Data(data)\n",
    "py.iplot(fig, height=1000, width=1000, filename='Major technology and CPG stock prices in 2014 - scatter matrix')"
   ]
  },
  {
   "cell_type": "markdown",
   "metadata": {},
   "source": [
    "Save the plot URL - we'll use it when generating the report later."
   ]
  },
  {
   "cell_type": "code",
   "execution_count": null,
   "metadata": {
    "collapsed": false
   },
   "outputs": [],
   "source": [
    "second_plot_url = py.plot(fig, height=1000, width=1000, auto_open=False,\\\n",
    "                          filename='Major technology and CPG stock prices in 2014 - scatter matrix')\n",
    "print second_plot_url"
   ]
  },
  {
   "cell_type": "markdown",
   "metadata": {},
   "source": [
    "### 2 summary tables - One using Pandas and one using HTML"
   ]
  },
  {
   "cell_type": "markdown",
   "metadata": {},
   "source": [
    "First table: Use Pandas <a href=\"http://pandas.pydata.org/pandas-docs/version/0.15.1/generated/pandas.DataFrame.to_html.html\">to_html()</a> routine to convert Pandas data frame to HTML table. Replace default table styling with <a href=\"http://getbootstrap.com/css\">Bootstrap</a> table styling."
   ]
  },
  {
   "cell_type": "code",
   "execution_count": null,
   "metadata": {
    "collapsed": false
   },
   "outputs": [],
   "source": [
    "summary_table_1 = df.describe()\n",
    "summary_table_1 = summary_table_1\\\n",
    "    .to_html()\\\n",
    "    .replace('<table border=\"1\" class=\"dataframe\">','<table class=\"table table-striped\">') # use bootstrap styling"
   ]
  },
  {
   "cell_type": "markdown",
   "metadata": {},
   "source": [
    "Second table: Build table as an HTML string. Use <a href=\"http://getbootstrap.com/css\">Bootstrap</a> for table styling."
   ]
  },
  {
   "cell_type": "code",
   "execution_count": null,
   "metadata": {
    "collapsed": false
   },
   "outputs": [],
   "source": [
    "summary_table_2 = '''<table class=\"table table-striped\">\n",
    "<th>Ticker</th><th>Full name</th>\n",
    "<tr>\n",
    "    <td>AAPL</td>\n",
    "    <td><a href=\"http://finance.yahoo.com/q?s=AAPL\">Apple Inc</a></td>\n",
    "</tr>\n",
    "<tr>\n",
    "    <td>GE</td>\n",
    "    <td><a href=\"http://finance.yahoo.com/q?s=GE\">General Electric Company</a></td>\n",
    "</tr>\n",
    "<tr>\n",
    "    <td>IBM</td>\n",
    "    <td><a href=\"http://finance.yahoo.com/q?s=IBM\">International Business Machines Corp.</a></td>\n",
    "</tr>\n",
    "<tr>\n",
    "    <td>KO</td>\n",
    "    <td><a href=\"http://finance.yahoo.com/q?s=KO\">The Coca-Cola Company</a></td>\n",
    "</tr>\n",
    "<tr>\n",
    "    <td>MSFT</td>\n",
    "    <td><a href=\"http://finance.yahoo.com/q?s=MSFT\">Microsoft Corporation</a></td>\n",
    "</tr>\n",
    "<tr>\n",
    "    <td>PEP</td>\n",
    "    <td><a href=\"http://finance.yahoo.com/q?s=PEP\">Pepsico, Inc.</a></td>\n",
    "</tr>\n",
    "</table>\n",
    "'''\n",
    "HTML(summary_table_2)"
   ]
  },
  {
   "cell_type": "markdown",
   "metadata": {},
   "source": [
    "## Step 2: Generate HTML report as a string and write to file"
   ]
  },
  {
   "cell_type": "markdown",
   "metadata": {},
   "source": [
    "This is the last step. We have all of the plots and tables that we want to include in the report - now we build an HTML string with the plots and tables embedded.<br>Notice that the <a href=\"http://getbootstrap.com/css\">Bootstrap</a> css library is included in the &lt;head&gt; for styling."
   ]
  },
  {
   "cell_type": "code",
   "execution_count": null,
   "metadata": {
    "collapsed": false
   },
   "outputs": [],
   "source": [
    "html_string = '''\n",
    "<html>\n",
    "    <head>\n",
    "        <link rel=\"stylesheet\" href=\"https://maxcdn.bootstrapcdn.com/bootstrap/3.3.1/css/bootstrap.min.css\">\n",
    "        <style>body{ margin:0 100; background:whitesmoke; }</style>\n",
    "    </head>\n",
    "    <body>\n",
    "        <h1>2014 technology and CPG stock prices</h1>\n",
    "\n",
    "        <!-- *** Section 1 *** --->\n",
    "        <h2>Section 1: Apple Inc. (AAPL) stock in 2014</h2>\n",
    "        <iframe width=\"1000\" height=\"550\" frameborder=\"0\" seamless=\"seamless\" scrolling=\"no\" \\\n",
    "src=\"''' + first_plot_url + '''.embed?width=800&height=550\"></iframe>\n",
    "        <p>Apple stock price rose steadily through 2014.</p>\n",
    "        \n",
    "        <!-- *** Section 2 *** --->\n",
    "        <h2>Section 2: AAPL compared to other 2014 stocks</h2>\n",
    "        <iframe width=\"1000\" height=\"1000\" frameborder=\"0\" seamless=\"seamless\" scrolling=\"no\" \\\n",
    "src=\"''' + second_plot_url + '''.embed?width=1000&height=1000\"></iframe>\n",
    "        <p>GE had the most predictable stock price in 2014. IBM had the highest mean stock price. \\\n",
    "The red lines are kernel density estimations of each stock price - the peak of each red lines \\\n",
    "corresponds to its mean stock price for 2014 on the x axis.</p>\n",
    "        <h3>Reference table: stock tickers</h3>\n",
    "        ''' + summary_table_2 + '''\n",
    "        <h3>Summary table: 2014 stock statistics</h3>\n",
    "        ''' + summary_table_1 + '''\n",
    "    </body>\n",
    "</html>'''"
   ]
  },
  {
   "cell_type": "markdown",
   "metadata": {},
   "source": [
    "Finally, write the html string to a local file."
   ]
  },
  {
   "cell_type": "code",
   "execution_count": null,
   "metadata": {
    "collapsed": false
   },
   "outputs": [],
   "source": [
    "f = open('/home/jack/report.html','w')\n",
    "f.write(html_string)\n",
    "f.close()"
   ]
  },
  {
   "cell_type": "code",
   "execution_count": null,
   "metadata": {
    "collapsed": true
   },
   "outputs": [],
   "source": []
  }
 ],
 "metadata": {
  "kernelspec": {
   "display_name": "Python 3",
   "language": "python",
   "name": "python3"
  },
  "language_info": {
   "codemirror_mode": {
    "name": "ipython",
    "version": 3
   },
   "file_extension": ".py",
   "mimetype": "text/x-python",
   "name": "python",
   "nbconvert_exporter": "python",
   "pygments_lexer": "ipython3",
   "version": "3.4.3"
  }
 },
 "nbformat": 4,
 "nbformat_minor": 0
}
