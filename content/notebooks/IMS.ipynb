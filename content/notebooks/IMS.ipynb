{
 "cells": [
  {
   "cell_type": "code",
   "execution_count": 2,
   "metadata": {
    "collapsed": true
   },
   "outputs": [],
   "source": [
    "%matplotlib inline\n",
    "import pandas as pd\n",
    "pd.options.display.float_format = '${:,.0f}'.format\n",
    "import numpy as np\n",
    "import matplotlib.pyplot as plt"
   ]
  },
  {
   "cell_type": "code",
   "execution_count": 3,
   "metadata": {
    "collapsed": false
   },
   "outputs": [],
   "source": [
    "imsdata = pd.read_csv('ims2.csv')"
   ]
  },
  {
   "cell_type": "code",
   "execution_count": 4,
   "metadata": {
    "collapsed": false
   },
   "outputs": [
    {
     "data": {
      "text/html": [
       "<div>\n",
       "<table border=\"1\" class=\"dataframe\">\n",
       "  <thead>\n",
       "    <tr style=\"text-align: right;\">\n",
       "      <th></th>\n",
       "      <th>Molecule</th>\n",
       "      <th>Form</th>\n",
       "      <th>Type</th>\n",
       "      <th>Product</th>\n",
       "      <th>Strength</th>\n",
       "      <th>2009_Sales</th>\n",
       "      <th>2010_Sales</th>\n",
       "      <th>2011_Sales</th>\n",
       "      <th>2012_Sales</th>\n",
       "      <th>2013_Sales</th>\n",
       "      <th>2014_Sales</th>\n",
       "      <th>2015_Sales</th>\n",
       "    </tr>\n",
       "  </thead>\n",
       "  <tbody>\n",
       "    <tr>\n",
       "      <th>0</th>\n",
       "      <td>1-PROPANOL</td>\n",
       "      <td>D DERMATOLOGICALS</td>\n",
       "      <td>OTHER</td>\n",
       "      <td>ALCOHOL SWABS</td>\n",
       "      <td>NaN</td>\n",
       "      <td>$2,311,722</td>\n",
       "      <td>$2,133,230</td>\n",
       "      <td>$837,895</td>\n",
       "      <td>$1,016,693</td>\n",
       "      <td>$994,266</td>\n",
       "      <td>$961,960</td>\n",
       "      <td>$234,939</td>\n",
       "    </tr>\n",
       "    <tr>\n",
       "      <th>1</th>\n",
       "      <td>3-METHYLSALICYLIC ACID!CAPSAICIN!MENTHOL</td>\n",
       "      <td>D DERMATOLOGICALS</td>\n",
       "      <td>OTHER</td>\n",
       "      <td>ZIKS</td>\n",
       "      <td>NaN</td>\n",
       "      <td>$41,709</td>\n",
       "      <td>$59,281</td>\n",
       "      <td>$60,949</td>\n",
       "      <td>$40,710</td>\n",
       "      <td>$38,618</td>\n",
       "      <td>$35,518</td>\n",
       "      <td>$6,713</td>\n",
       "    </tr>\n",
       "    <tr>\n",
       "      <th>2</th>\n",
       "      <td>4-HYDROXYBUTYRIC ACID</td>\n",
       "      <td>O ORALS</td>\n",
       "      <td>BRAND</td>\n",
       "      <td>XYREM</td>\n",
       "      <td>500MG/ML</td>\n",
       "      <td>NaN</td>\n",
       "      <td>NaN</td>\n",
       "      <td>NaN</td>\n",
       "      <td>NaN</td>\n",
       "      <td>NaN</td>\n",
       "      <td>$562</td>\n",
       "      <td>NaN</td>\n",
       "    </tr>\n",
       "    <tr>\n",
       "      <th>3</th>\n",
       "      <td>7-KETO HYDROANDROSTERONE</td>\n",
       "      <td>Y ALL OTHERS</td>\n",
       "      <td>GENERIC</td>\n",
       "      <td>7-KETO DHEA</td>\n",
       "      <td>100%</td>\n",
       "      <td>$25,104</td>\n",
       "      <td>$42,357</td>\n",
       "      <td>$37,992</td>\n",
       "      <td>$62,192</td>\n",
       "      <td>$40,504</td>\n",
       "      <td>$45,794</td>\n",
       "      <td>$11,945</td>\n",
       "    </tr>\n",
       "    <tr>\n",
       "      <th>4</th>\n",
       "      <td>8-QUINOLINOL</td>\n",
       "      <td>D DERMATOLOGICALS</td>\n",
       "      <td>OTHER</td>\n",
       "      <td>BAG BALM</td>\n",
       "      <td>0.30%</td>\n",
       "      <td>$214,230</td>\n",
       "      <td>$386,476</td>\n",
       "      <td>$336,072</td>\n",
       "      <td>$304,694</td>\n",
       "      <td>$362,309</td>\n",
       "      <td>$19,916</td>\n",
       "      <td>$12</td>\n",
       "    </tr>\n",
       "  </tbody>\n",
       "</table>\n",
       "</div>"
      ],
      "text/plain": [
       "                                   Molecule               Form     Type  \\\n",
       "0                                1-PROPANOL  D DERMATOLOGICALS    OTHER   \n",
       "1  3-METHYLSALICYLIC ACID!CAPSAICIN!MENTHOL  D DERMATOLOGICALS    OTHER   \n",
       "2                     4-HYDROXYBUTYRIC ACID            O ORALS    BRAND   \n",
       "3                  7-KETO HYDROANDROSTERONE       Y ALL OTHERS  GENERIC   \n",
       "4                              8-QUINOLINOL  D DERMATOLOGICALS    OTHER   \n",
       "\n",
       "         Product  Strength   2009_Sales   2010_Sales 2011_Sales   2012_Sales  \\\n",
       "0  ALCOHOL SWABS       NaN  $2,311,722   $2,133,230   $837,895   $1,016,693    \n",
       "1           ZIKS       NaN     $41,709      $59,281    $60,949      $40,710    \n",
       "2          XYREM  500MG/ML          NaN          NaN        NaN          NaN   \n",
       "3    7-KETO DHEA      100%     $25,104      $42,357    $37,992      $62,192    \n",
       "4       BAG BALM     0.30%    $214,230     $386,476   $336,072     $304,694    \n",
       "\n",
       "  2013_Sales 2014_Sales 2015_Sales  \n",
       "0  $994,266   $961,960   $234,939   \n",
       "1   $38,618    $35,518     $6,713   \n",
       "2        NaN      $562         NaN  \n",
       "3   $40,504    $45,794    $11,945   \n",
       "4  $362,309    $19,916        $12   "
      ]
     },
     "execution_count": 4,
     "metadata": {},
     "output_type": "execute_result"
    }
   ],
   "source": [
    "imsdata.head()"
   ]
  },
  {
   "cell_type": "code",
   "execution_count": 5,
   "metadata": {
    "collapsed": false
   },
   "outputs": [],
   "source": [
    "imsdata['2009_Sales'] = imsdata['2009_Sales'].str.replace(',', '').str.replace('$', '').str.strip().astype(float)\n",
    "imsdata['2010_Sales'] = imsdata['2010_Sales'].str.replace(',', '').str.replace('$', '').str.strip().astype(float)\n",
    "imsdata['2011_Sales'] = imsdata['2011_Sales'].str.replace(',', '').str.replace('$', '').str.strip().astype(float)\n",
    "imsdata['2012_Sales'] = imsdata['2012_Sales'].str.replace(',', '').str.replace('$', '').str.strip().astype(float)\n",
    "imsdata['2013_Sales'] = imsdata['2013_Sales'].str.replace(',', '').str.replace('$', '').str.strip().astype(float)\n",
    "imsdata['2014_Sales'] = imsdata['2014_Sales'].str.replace(',', '').str.replace('$', '').str.strip().astype(float)\n",
    "imsdata['2015_Sales'] = imsdata['2015_Sales'].str.replace(',', '').str.replace('$', '').str.strip().astype(float)"
   ]
  },
  {
   "cell_type": "code",
   "execution_count": 6,
   "metadata": {
    "collapsed": false
   },
   "outputs": [
    {
     "data": {
      "text/html": [
       "<div>\n",
       "<table border=\"1\" class=\"dataframe\">\n",
       "  <thead>\n",
       "    <tr style=\"text-align: right;\">\n",
       "      <th></th>\n",
       "      <th>Molecule</th>\n",
       "      <th>Form</th>\n",
       "      <th>Type</th>\n",
       "      <th>Product</th>\n",
       "      <th>Strength</th>\n",
       "      <th>2009_Sales</th>\n",
       "      <th>2010_Sales</th>\n",
       "      <th>2011_Sales</th>\n",
       "      <th>2012_Sales</th>\n",
       "      <th>2013_Sales</th>\n",
       "      <th>2014_Sales</th>\n",
       "      <th>2015_Sales</th>\n",
       "    </tr>\n",
       "  </thead>\n",
       "  <tbody>\n",
       "    <tr>\n",
       "      <th>0</th>\n",
       "      <td>1-PROPANOL</td>\n",
       "      <td>D DERMATOLOGICALS</td>\n",
       "      <td>OTHER</td>\n",
       "      <td>ALCOHOL SWABS</td>\n",
       "      <td>NaN</td>\n",
       "      <td>$2,311,722</td>\n",
       "      <td>$2,133,230</td>\n",
       "      <td>$837,895</td>\n",
       "      <td>$1,016,693</td>\n",
       "      <td>$994,266</td>\n",
       "      <td>$961,960</td>\n",
       "      <td>$234,939</td>\n",
       "    </tr>\n",
       "    <tr>\n",
       "      <th>1</th>\n",
       "      <td>3-METHYLSALICYLIC ACID!CAPSAICIN!MENTHOL</td>\n",
       "      <td>D DERMATOLOGICALS</td>\n",
       "      <td>OTHER</td>\n",
       "      <td>ZIKS</td>\n",
       "      <td>NaN</td>\n",
       "      <td>$41,709</td>\n",
       "      <td>$59,281</td>\n",
       "      <td>$60,949</td>\n",
       "      <td>$40,710</td>\n",
       "      <td>$38,618</td>\n",
       "      <td>$35,518</td>\n",
       "      <td>$6,713</td>\n",
       "    </tr>\n",
       "    <tr>\n",
       "      <th>2</th>\n",
       "      <td>4-HYDROXYBUTYRIC ACID</td>\n",
       "      <td>O ORALS</td>\n",
       "      <td>BRAND</td>\n",
       "      <td>XYREM</td>\n",
       "      <td>500MG/ML</td>\n",
       "      <td>$nan</td>\n",
       "      <td>$nan</td>\n",
       "      <td>$nan</td>\n",
       "      <td>$nan</td>\n",
       "      <td>$nan</td>\n",
       "      <td>$562</td>\n",
       "      <td>$nan</td>\n",
       "    </tr>\n",
       "    <tr>\n",
       "      <th>3</th>\n",
       "      <td>7-KETO HYDROANDROSTERONE</td>\n",
       "      <td>Y ALL OTHERS</td>\n",
       "      <td>GENERIC</td>\n",
       "      <td>7-KETO DHEA</td>\n",
       "      <td>100%</td>\n",
       "      <td>$25,104</td>\n",
       "      <td>$42,357</td>\n",
       "      <td>$37,992</td>\n",
       "      <td>$62,192</td>\n",
       "      <td>$40,504</td>\n",
       "      <td>$45,794</td>\n",
       "      <td>$11,945</td>\n",
       "    </tr>\n",
       "    <tr>\n",
       "      <th>4</th>\n",
       "      <td>8-QUINOLINOL</td>\n",
       "      <td>D DERMATOLOGICALS</td>\n",
       "      <td>OTHER</td>\n",
       "      <td>BAG BALM</td>\n",
       "      <td>0.30%</td>\n",
       "      <td>$214,230</td>\n",
       "      <td>$386,476</td>\n",
       "      <td>$336,072</td>\n",
       "      <td>$304,694</td>\n",
       "      <td>$362,309</td>\n",
       "      <td>$19,916</td>\n",
       "      <td>$12</td>\n",
       "    </tr>\n",
       "  </tbody>\n",
       "</table>\n",
       "</div>"
      ],
      "text/plain": [
       "                                   Molecule               Form     Type  \\\n",
       "0                                1-PROPANOL  D DERMATOLOGICALS    OTHER   \n",
       "1  3-METHYLSALICYLIC ACID!CAPSAICIN!MENTHOL  D DERMATOLOGICALS    OTHER   \n",
       "2                     4-HYDROXYBUTYRIC ACID            O ORALS    BRAND   \n",
       "3                  7-KETO HYDROANDROSTERONE       Y ALL OTHERS  GENERIC   \n",
       "4                              8-QUINOLINOL  D DERMATOLOGICALS    OTHER   \n",
       "\n",
       "         Product  Strength  2009_Sales  2010_Sales  2011_Sales  2012_Sales  \\\n",
       "0  ALCOHOL SWABS       NaN  $2,311,722  $2,133,230    $837,895  $1,016,693   \n",
       "1           ZIKS       NaN     $41,709     $59,281     $60,949     $40,710   \n",
       "2          XYREM  500MG/ML        $nan        $nan        $nan        $nan   \n",
       "3    7-KETO DHEA      100%     $25,104     $42,357     $37,992     $62,192   \n",
       "4       BAG BALM     0.30%    $214,230    $386,476    $336,072    $304,694   \n",
       "\n",
       "   2013_Sales  2014_Sales  2015_Sales  \n",
       "0    $994,266    $961,960    $234,939  \n",
       "1     $38,618     $35,518      $6,713  \n",
       "2        $nan        $562        $nan  \n",
       "3     $40,504     $45,794     $11,945  \n",
       "4    $362,309     $19,916         $12  "
      ]
     },
     "execution_count": 6,
     "metadata": {},
     "output_type": "execute_result"
    }
   ],
   "source": [
    "imsdata.head()"
   ]
  },
  {
   "cell_type": "code",
   "execution_count": 7,
   "metadata": {
    "collapsed": true
   },
   "outputs": [],
   "source": [
    "molecule = 'ALENDRONATE'\n",
    "strength = ['5MG', '10MG', '35MG', '70MG']\n",
    "drugtype = 'GENERIC'\n",
    "form = 'O ORALS'"
   ]
  },
  {
   "cell_type": "code",
   "execution_count": 8,
   "metadata": {
    "collapsed": false
   },
   "outputs": [
    {
     "data": {
      "text/html": [
       "<div>\n",
       "<table border=\"1\" class=\"dataframe\">\n",
       "  <thead>\n",
       "    <tr style=\"text-align: right;\">\n",
       "      <th></th>\n",
       "      <th>Molecule</th>\n",
       "      <th>Form</th>\n",
       "      <th>Type</th>\n",
       "      <th>Product</th>\n",
       "      <th>Strength</th>\n",
       "      <th>2009_Sales</th>\n",
       "      <th>2010_Sales</th>\n",
       "      <th>2011_Sales</th>\n",
       "      <th>2012_Sales</th>\n",
       "      <th>2013_Sales</th>\n",
       "      <th>2014_Sales</th>\n",
       "      <th>2015_Sales</th>\n",
       "    </tr>\n",
       "  </thead>\n",
       "  <tbody>\n",
       "    <tr>\n",
       "      <th>1085</th>\n",
       "      <td>ALENDRONATE</td>\n",
       "      <td>O ORALS</td>\n",
       "      <td>BRANDED GENERIC</td>\n",
       "      <td>BINOSTO</td>\n",
       "      <td>70MG</td>\n",
       "      <td>$nan</td>\n",
       "      <td>$nan</td>\n",
       "      <td>$nan</td>\n",
       "      <td>$281,425</td>\n",
       "      <td>$815,645</td>\n",
       "      <td>$1,472,026</td>\n",
       "      <td>$448,675</td>\n",
       "    </tr>\n",
       "    <tr>\n",
       "      <th>1086</th>\n",
       "      <td>ALENDRONATE</td>\n",
       "      <td>O ORALS</td>\n",
       "      <td>BRAND</td>\n",
       "      <td>FOSAMAX</td>\n",
       "      <td>10MG</td>\n",
       "      <td>$805,690</td>\n",
       "      <td>$612,191</td>\n",
       "      <td>$130,878</td>\n",
       "      <td>$326</td>\n",
       "      <td>$nan</td>\n",
       "      <td>$nan</td>\n",
       "      <td>$nan</td>\n",
       "    </tr>\n",
       "    <tr>\n",
       "      <th>1087</th>\n",
       "      <td>ALENDRONATE</td>\n",
       "      <td>O ORALS</td>\n",
       "      <td>BRAND</td>\n",
       "      <td>FOSAMAX</td>\n",
       "      <td>35MG</td>\n",
       "      <td>$2,204,761</td>\n",
       "      <td>$2,583,472</td>\n",
       "      <td>$188,682</td>\n",
       "      <td>$4,926</td>\n",
       "      <td>$384</td>\n",
       "      <td>$nan</td>\n",
       "      <td>$nan</td>\n",
       "    </tr>\n",
       "    <tr>\n",
       "      <th>1089</th>\n",
       "      <td>ALENDRONATE</td>\n",
       "      <td>O ORALS</td>\n",
       "      <td>BRAND</td>\n",
       "      <td>FOSAMAX</td>\n",
       "      <td>5MG</td>\n",
       "      <td>$78,309</td>\n",
       "      <td>$35,179</td>\n",
       "      <td>$nan</td>\n",
       "      <td>$nan</td>\n",
       "      <td>$213</td>\n",
       "      <td>$nan</td>\n",
       "      <td>$nan</td>\n",
       "    </tr>\n",
       "    <tr>\n",
       "      <th>1090</th>\n",
       "      <td>ALENDRONATE</td>\n",
       "      <td>O ORALS</td>\n",
       "      <td>BRAND</td>\n",
       "      <td>FOSAMAX</td>\n",
       "      <td>70MG</td>\n",
       "      <td>$19,602,549</td>\n",
       "      <td>$28,168,723</td>\n",
       "      <td>$20,109,420</td>\n",
       "      <td>$7,407,686</td>\n",
       "      <td>$5,048,889</td>\n",
       "      <td>$4,426,447</td>\n",
       "      <td>$1,085,342</td>\n",
       "    </tr>\n",
       "  </tbody>\n",
       "</table>\n",
       "</div>"
      ],
      "text/plain": [
       "         Molecule     Form             Type  Product Strength  2009_Sales  \\\n",
       "1085  ALENDRONATE  O ORALS  BRANDED GENERIC  BINOSTO     70MG        $nan   \n",
       "1086  ALENDRONATE  O ORALS            BRAND  FOSAMAX     10MG    $805,690   \n",
       "1087  ALENDRONATE  O ORALS            BRAND  FOSAMAX     35MG  $2,204,761   \n",
       "1089  ALENDRONATE  O ORALS            BRAND  FOSAMAX      5MG     $78,309   \n",
       "1090  ALENDRONATE  O ORALS            BRAND  FOSAMAX     70MG $19,602,549   \n",
       "\n",
       "      2010_Sales  2011_Sales  2012_Sales  2013_Sales  2014_Sales  2015_Sales  \n",
       "1085        $nan        $nan    $281,425    $815,645  $1,472,026    $448,675  \n",
       "1086    $612,191    $130,878        $326        $nan        $nan        $nan  \n",
       "1087  $2,583,472    $188,682      $4,926        $384        $nan        $nan  \n",
       "1089     $35,179        $nan        $nan        $213        $nan        $nan  \n",
       "1090 $28,168,723 $20,109,420  $7,407,686  $5,048,889  $4,426,447  $1,085,342  "
      ]
     },
     "execution_count": 8,
     "metadata": {},
     "output_type": "execute_result"
    }
   ],
   "source": [
    "selected_df = imsdata[(imsdata.Strength.isin(strength)) & (imsdata.Form == form) & (imsdata.Molecule == molecule)]\n",
    "selected_df.head()"
   ]
  },
  {
   "cell_type": "code",
   "execution_count": 9,
   "metadata": {
    "collapsed": false
   },
   "outputs": [
    {
     "name": "stderr",
     "output_type": "stream",
     "text": [
      "C:\\Anaconda3\\lib\\site-packages\\ipykernel\\__main__.py:1: SettingWithCopyWarning: \n",
      "A value is trying to be set on a copy of a slice from a DataFrame.\n",
      "Try using .loc[row_indexer,col_indexer] = value instead\n",
      "\n",
      "See the caveats in the documentation: http://pandas.pydata.org/pandas-docs/stable/indexing.html#indexing-view-versus-copy\n",
      "  if __name__ == '__main__':\n"
     ]
    }
   ],
   "source": [
    "selected_df['2015_Sales'] = selected_df['2015_Sales'] * 4"
   ]
  },
  {
   "cell_type": "code",
   "execution_count": 10,
   "metadata": {
    "collapsed": false
   },
   "outputs": [
    {
     "data": {
      "text/html": [
       "<div>\n",
       "<table border=\"1\" class=\"dataframe\">\n",
       "  <thead>\n",
       "    <tr style=\"text-align: right;\">\n",
       "      <th></th>\n",
       "      <th>2009_Sales</th>\n",
       "      <th>2010_Sales</th>\n",
       "      <th>2011_Sales</th>\n",
       "      <th>2012_Sales</th>\n",
       "      <th>2013_Sales</th>\n",
       "      <th>2014_Sales</th>\n",
       "      <th>2015_Sales</th>\n",
       "    </tr>\n",
       "    <tr>\n",
       "      <th>Type</th>\n",
       "      <th></th>\n",
       "      <th></th>\n",
       "      <th></th>\n",
       "      <th></th>\n",
       "      <th></th>\n",
       "      <th></th>\n",
       "      <th></th>\n",
       "    </tr>\n",
       "  </thead>\n",
       "  <tbody>\n",
       "    <tr>\n",
       "      <th>BRAND</th>\n",
       "      <td>$22,691,309</td>\n",
       "      <td>$31,399,565</td>\n",
       "      <td>$20,428,980</td>\n",
       "      <td>$7,412,938</td>\n",
       "      <td>$5,049,486</td>\n",
       "      <td>$4,426,447</td>\n",
       "      <td>$4,341,368</td>\n",
       "    </tr>\n",
       "    <tr>\n",
       "      <th>BRANDED GENERIC</th>\n",
       "      <td>$nan</td>\n",
       "      <td>$nan</td>\n",
       "      <td>$nan</td>\n",
       "      <td>$281,425</td>\n",
       "      <td>$815,645</td>\n",
       "      <td>$1,472,026</td>\n",
       "      <td>$1,794,700</td>\n",
       "    </tr>\n",
       "    <tr>\n",
       "      <th>GENERIC</th>\n",
       "      <td>$56,027,943</td>\n",
       "      <td>$90,029,146</td>\n",
       "      <td>$59,556,923</td>\n",
       "      <td>$45,711,446</td>\n",
       "      <td>$43,284,361</td>\n",
       "      <td>$35,340,126</td>\n",
       "      <td>$30,495,728</td>\n",
       "    </tr>\n",
       "  </tbody>\n",
       "</table>\n",
       "</div>"
      ],
      "text/plain": [
       "                 2009_Sales  2010_Sales  2011_Sales  2012_Sales  2013_Sales  \\\n",
       "Type                                                                          \n",
       "BRAND           $22,691,309 $31,399,565 $20,428,980  $7,412,938  $5,049,486   \n",
       "BRANDED GENERIC        $nan        $nan        $nan    $281,425    $815,645   \n",
       "GENERIC         $56,027,943 $90,029,146 $59,556,923 $45,711,446 $43,284,361   \n",
       "\n",
       "                 2014_Sales  2015_Sales  \n",
       "Type                                     \n",
       "BRAND            $4,426,447  $4,341,368  \n",
       "BRANDED GENERIC  $1,472,026  $1,794,700  \n",
       "GENERIC         $35,340,126 $30,495,728  "
      ]
     },
     "execution_count": 10,
     "metadata": {},
     "output_type": "execute_result"
    }
   ],
   "source": [
    "bybrand_df = selected_df.groupby('Type')\n",
    "bybrand_df.sum()"
   ]
  },
  {
   "cell_type": "code",
   "execution_count": 11,
   "metadata": {
    "collapsed": false
   },
   "outputs": [
    {
     "data": {
      "text/html": [
       "<div>\n",
       "<table border=\"1\" class=\"dataframe\">\n",
       "  <thead>\n",
       "    <tr style=\"text-align: right;\">\n",
       "      <th></th>\n",
       "      <th>2009_Sales</th>\n",
       "      <th>2010_Sales</th>\n",
       "      <th>2011_Sales</th>\n",
       "      <th>2012_Sales</th>\n",
       "      <th>2013_Sales</th>\n",
       "      <th>2014_Sales</th>\n",
       "      <th>2015_Sales</th>\n",
       "    </tr>\n",
       "    <tr>\n",
       "      <th>Product</th>\n",
       "      <th></th>\n",
       "      <th></th>\n",
       "      <th></th>\n",
       "      <th></th>\n",
       "      <th></th>\n",
       "      <th></th>\n",
       "      <th></th>\n",
       "    </tr>\n",
       "  </thead>\n",
       "  <tbody>\n",
       "    <tr>\n",
       "      <th>ALENDRONATE SOD</th>\n",
       "      <td>$56,027,943</td>\n",
       "      <td>$90,029,146</td>\n",
       "      <td>$59,556,923</td>\n",
       "      <td>$45,711,446</td>\n",
       "      <td>$43,284,361</td>\n",
       "      <td>$35,340,126</td>\n",
       "      <td>$30,495,728</td>\n",
       "    </tr>\n",
       "    <tr>\n",
       "      <th>BINOSTO</th>\n",
       "      <td>$nan</td>\n",
       "      <td>$nan</td>\n",
       "      <td>$nan</td>\n",
       "      <td>$281,425</td>\n",
       "      <td>$815,645</td>\n",
       "      <td>$1,472,026</td>\n",
       "      <td>$1,794,700</td>\n",
       "    </tr>\n",
       "    <tr>\n",
       "      <th>FOSAMAX</th>\n",
       "      <td>$22,691,309</td>\n",
       "      <td>$31,399,565</td>\n",
       "      <td>$20,428,980</td>\n",
       "      <td>$7,412,938</td>\n",
       "      <td>$5,049,486</td>\n",
       "      <td>$4,426,447</td>\n",
       "      <td>$4,341,368</td>\n",
       "    </tr>\n",
       "  </tbody>\n",
       "</table>\n",
       "</div>"
      ],
      "text/plain": [
       "                 2009_Sales  2010_Sales  2011_Sales  2012_Sales  2013_Sales  \\\n",
       "Product                                                                       \n",
       "ALENDRONATE SOD $56,027,943 $90,029,146 $59,556,923 $45,711,446 $43,284,361   \n",
       "BINOSTO                $nan        $nan        $nan    $281,425    $815,645   \n",
       "FOSAMAX         $22,691,309 $31,399,565 $20,428,980  $7,412,938  $5,049,486   \n",
       "\n",
       "                 2014_Sales  2015_Sales  \n",
       "Product                                  \n",
       "ALENDRONATE SOD $35,340,126 $30,495,728  \n",
       "BINOSTO          $1,472,026  $1,794,700  \n",
       "FOSAMAX          $4,426,447  $4,341,368  "
      ]
     },
     "execution_count": 11,
     "metadata": {},
     "output_type": "execute_result"
    }
   ],
   "source": [
    "byproduct_df = selected_df.groupby('Product')\n",
    "byproduct_df.sum()"
   ]
  },
  {
   "cell_type": "code",
   "execution_count": 12,
   "metadata": {
    "collapsed": false
   },
   "outputs": [
    {
     "data": {
      "image/png": "[encoded data removed]",
      "text/plain": [
       "<matplotlib.figure.Figure at 0x89c21d0>"
      ]
     },
     "metadata": {},
     "output_type": "display_data"
    }
   ],
   "source": [
    "ax = bybrand_df.sum().transpose().plot(kind='bar', stacked=True)\n",
    "ax.yaxis.set_major_formatter(plt.FuncFormatter(lambda x, p: format(int(x), ',')))"
   ]
  },
  {
   "cell_type": "code",
   "execution_count": 13,
   "metadata": {
    "collapsed": false
   },
   "outputs": [
    {
     "data": {
      "image/png": "[encoded data removed]",
      "text/plain": [
       "<matplotlib.figure.Figure at 0x8b03048>"
      ]
     },
     "metadata": {},
     "output_type": "display_data"
    }
   ],
   "source": [
    "ax = byproduct_df.sum().transpose().plot(kind='bar', stacked=True)\n",
    "ax.yaxis.set_major_formatter(plt.FuncFormatter(lambda x, p: format(int(x), ',')))"
   ]
  },
  {
   "cell_type": "code",
   "execution_count": null,
   "metadata": {
    "collapsed": true
   },
   "outputs": [],
   "source": []
  },
  {
   "cell_type": "code",
   "execution_count": null,
   "metadata": {
    "collapsed": true
   },
   "outputs": [],
   "source": []
  }
 ],
 "metadata": {
  "kernelspec": {
   "display_name": "Python 3",
   "language": "python",
   "name": "python3"
  },
  "language_info": {
   "codemirror_mode": {
    "name": "ipython",
    "version": 3
   },
   "file_extension": ".py",
   "mimetype": "text/x-python",
   "name": "python",
   "nbconvert_exporter": "python",
   "pygments_lexer": "ipython3",
   "version": "3.4.3"
  }
 },
 "nbformat": 4,
 "nbformat_minor": 0
}
