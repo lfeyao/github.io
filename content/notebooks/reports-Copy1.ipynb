{
 "cells": [
  {
   "cell_type": "markdown",
   "metadata": {},
   "source": [
    "# Generate HTML reports with D3 graphs using Python, Plotly, and Pandas"
   ]
  },
  {
   "cell_type": "markdown",
   "metadata": {},
   "source": [
    "You can download the example report that this script generate from this link."
   ]
  },
  {
   "cell_type": "markdown",
   "metadata": {},
   "source": [
    "<a href=\"d3.js\">d3.js</a> is an amazing JavaScript library for creating interactive, online graphics and charts. Plotly lets you create d3.js charts using Python, R, or MATLAB. This IPython notebook shows you how to embed these charts in an HTML report that you can then share by email or <a href=\"\">host on a website</a>."
   ]
  },
  {
   "cell_type": "markdown",
   "metadata": {},
   "source": [
    "Once you've created your report generation script, you can automate it with a task scheduler like <a href=\"http://moderndata.plot.ly/update-plotly-charts-with-cron-jobs-and-python/\">cron</a> on a Ubuntu server, and even email it email it to yourself or your team with the Python <a href=\"https://docs.python.org/2/library/smtplib.html\">smtplib</a> library."
   ]
  },
  {
   "cell_type": "code",
   "execution_count": 1,
   "metadata": {
    "collapsed": false
   },
   "outputs": [],
   "source": [
    "import plotly as py\n",
    "import pandas as pd\n",
    "import numpy as np\n",
    "\n",
    "from datetime import datetime\n",
    "from datetime import time as dt_tm\n",
    "from datetime import date as dt_date\n",
    "\n",
    "import plotly.plotly as py\n",
    "import plotly.tools as plotly_tools\n",
    "from plotly.graph_objs import *\n",
    "\n",
    "import os\n",
    "import tempfile\n",
    "os.environ['MPLCONFIGDIR'] = tempfile.mkdtemp()\n",
    "from matplotlib.finance import quotes_historical_yahoo\n",
    "import matplotlib.pyplot as plt\n",
    "\n",
    "from scipy.stats import gaussian_kde\n",
    "\n",
    "from IPython.display import HTML\n",
    "\n",
    "py.sign_in(\"DaiYu\", \"kgx7wxp3ro\")"
   ]
  },
  {
   "cell_type": "markdown",
   "metadata": {},
   "source": [
    "## Step 1: Generate 2 graphs and 2 tables for report with Plotly Python client"
   ]
  },
  {
   "cell_type": "markdown",
   "metadata": {},
   "source": [
    "### First graph: 2014 Apple stock data with moving average"
   ]
  },
  {
   "cell_type": "markdown",
   "metadata": {},
   "source": [
    "Let's grab Apple stock data using the <a href=\"http://matplotlib.org/api/finance_api.html\">matplotlib finance</a> model from 2014, then take a moving average with a <a href=\"http://docs.scipy.org/doc/numpy/reference/generated/numpy.convolve.html\">numpy convolution</a>."
   ]
  },
  {
   "cell_type": "code",
   "execution_count": 2,
   "metadata": {
    "collapsed": false
   },
   "outputs": [
    {
     "name": "stderr",
     "output_type": "stream",
     "text": [
      "C:\\Anaconda3\\lib\\site-packages\\matplotlib\\finance.py:485: MatplotlibDeprecationWarning:\n",
      "\n",
      "This function has been deprecated in 1.4 in favor of `quotes_historical_yahoo_ochl`, which maintains the original argument order, or `quotes_historical_yahoo_ohlc`, which uses the open-high-low-close order. This function will be removed in 1.5\n",
      "\n"
     ]
    }
   ],
   "source": [
    "x = []\n",
    "y = []\n",
    "ma = []\n",
    "\n",
    "def moving_average(interval, window_size):\n",
    "    window = np.ones(int(window_size))/float(window_size)\n",
    "    return np.convolve(interval, window, 'same')\n",
    "\n",
    "date1 = dt_date( 2014, 1, 1 )\n",
    "date2 = dt_date( 2014, 12, 12 )\n",
    "quotes = quotes_historical_yahoo('AAPL', date1, date2)\n",
    "if len(quotes) == 0:\n",
    "    print(\"Couldn't connect to yahoo trading database\")\n",
    "else:\n",
    "    dates = [q[0] for q in quotes]\n",
    "    y = [q[1] for q in quotes]\n",
    "    for date in dates:\n",
    "        x.append(datetime.fromordinal(int(date))\\\n",
    "                .strftime('%Y-%m-%d')) # Plotly timestamp format\n",
    "    ma = moving_average(y, 10)"
   ]
  },
  {
   "cell_type": "markdown",
   "metadata": {},
   "source": [
    "Now graph the data with Plotly. See here for Plotly's <a href=\"https://plot.ly/python/line-and-scatter/\">line plot syntax</a> and here for <a href=\"https://plot.ly/python/getting-started/\">getting started</a> with the Plotly Python client."
   ]
  },
  {
   "cell_type": "code",
   "execution_count": 3,
   "metadata": {
    "collapsed": false
   },
   "outputs": [
    {
     "name": "stdout",
     "output_type": "stream",
     "text": [
      "High five! You successfuly sent some data to your account on plotly. View your plot in your browser at https://plot.ly/~DaiYu/0 or inside your plot.ly account where it is named 'apple stock moving average'\n"
     ]
    },
    {
     "data": {
      "text/html": [
       "<iframe id=\"igraph\" scrolling=\"no\" style=\"border:none;\"seamless=\"seamless\" src=\"https://plot.ly/~DaiYu/0.embed\" height=\"525px\" width=\"100%\"></iframe>"
      ],
      "text/plain": [
       "<plotly.tools.PlotlyDisplay object>"
      ]
     },
     "execution_count": 3,
     "metadata": {},
     "output_type": "execute_result"
    }
   ],
   "source": [
    "xy_data = Scatter( x=x, y=y, mode='markers', marker=Marker(size=4), name='AAPL' )\n",
    "# vvv clip first and last points of convolution\n",
    "mov_avg = Scatter( x=x[5:-4], y=ma[5:-4], \\\n",
    "                  line=Line(width=2,color='red'), name='Moving average' )\n",
    "data = Data([xy_data, mov_avg])\n",
    "\n",
    "py.iplot(data, filename='apple stock moving average')"
   ]
  },
  {
   "cell_type": "markdown",
   "metadata": {},
   "source": [
    "Save the plot URL - we'll use it when generating the report later."
   ]
  },
  {
   "cell_type": "code",
   "execution_count": 4,
   "metadata": {
    "collapsed": false
   },
   "outputs": [
    {
     "name": "stdout",
     "output_type": "stream",
     "text": [
      "High five! You successfuly sent some data to your account on plotly. View your plot in your browser at https://plot.ly/~DaiYu/0 or inside your plot.ly account where it is named 'apple stock moving average'\n",
      "https://plot.ly/~DaiYu/0\n"
     ]
    }
   ],
   "source": [
    "first_plot_url = py.plot(data, filename='apple stock moving average', auto_open=False,)\n",
    "print(first_plot_url)"
   ]
  },
  {
   "cell_type": "markdown",
   "metadata": {},
   "source": [
    "### 2 summary tables - One using Pandas and one using HTML"
   ]
  },
  {
   "cell_type": "markdown",
   "metadata": {},
   "source": [
    "First table: Use Pandas <a href=\"http://pandas.pydata.org/pandas-docs/version/0.15.1/generated/pandas.DataFrame.to_html.html\">to_html()</a> routine to convert Pandas data frame to HTML table. Replace default table styling with <a href=\"http://getbootstrap.com/css\">Bootstrap</a> table styling."
   ]
  },
  {
   "cell_type": "code",
   "execution_count": 5,
   "metadata": {
    "collapsed": false
   },
   "outputs": [
    {
     "ename": "NameError",
     "evalue": "name 'df' is not defined",
     "output_type": "error",
     "traceback": [
      "\u001b[1;31m---------------------------------------------------------------------------\u001b[0m",
      "\u001b[1;31mNameError\u001b[0m                                 Traceback (most recent call last)",
      "\u001b[1;32m<ipython-input-5-89ae213e1005>\u001b[0m in \u001b[0;36m<module>\u001b[1;34m()\u001b[0m\n\u001b[1;32m----> 1\u001b[1;33m \u001b[0msummary_table_1\u001b[0m \u001b[1;33m=\u001b[0m \u001b[0mdf\u001b[0m\u001b[1;33m.\u001b[0m\u001b[0mdescribe\u001b[0m\u001b[1;33m(\u001b[0m\u001b[1;33m)\u001b[0m\u001b[1;33m\u001b[0m\u001b[0m\n\u001b[0m\u001b[0;32m      2\u001b[0m \u001b[0msummary_table_1\u001b[0m \u001b[1;33m=\u001b[0m \u001b[0msummary_table_1\u001b[0m    \u001b[1;33m.\u001b[0m\u001b[0mto_html\u001b[0m\u001b[1;33m(\u001b[0m\u001b[1;33m)\u001b[0m    \u001b[1;33m.\u001b[0m\u001b[0mreplace\u001b[0m\u001b[1;33m(\u001b[0m\u001b[1;34m'<table border=\"1\" class=\"dataframe\">'\u001b[0m\u001b[1;33m,\u001b[0m\u001b[1;34m'<table class=\"table table-striped\">'\u001b[0m\u001b[1;33m)\u001b[0m \u001b[1;31m# use bootstrap styling\u001b[0m\u001b[1;33m\u001b[0m\u001b[0m\n",
      "\u001b[1;31mNameError\u001b[0m: name 'df' is not defined"
     ]
    }
   ],
   "source": [
    "summary_table_1 = df.describe()\n",
    "summary_table_1 = summary_table_1\\\n",
    "    .to_html()\\\n",
    "    .replace('<table border=\"1\" class=\"dataframe\">','<table class=\"table table-striped\">') # use bootstrap styling"
   ]
  },
  {
   "cell_type": "code",
   "execution_count": null,
   "metadata": {
    "collapsed": false
   },
   "outputs": [],
   "source": [
    "html_string = '''\n",
    "<html>\n",
    "    <head>\n",
    "        <link rel=\"stylesheet\" href=\"https://maxcdn.bootstrapcdn.com/bootstrap/3.3.1/css/bootstrap.min.css\">\n",
    "        <style>body{ margin:0 100; background:whitesmoke; }</style>\n",
    "    </head>\n",
    "    <body>\n",
    "        <h1>2014 technology and CPG stock prices</h1>\n",
    "\n",
    "        <!-- *** Section 1 *** --->\n",
    "        <h2>Section 1: Apple Inc. (AAPL) stock in 2014</h2>\n",
    "        <iframe width=\"1000\" height=\"550\" frameborder=\"0\" seamless=\"seamless\" scrolling=\"no\" \\\n",
    "src=\"''' + first_plot_url + '''.embed?width=800&height=550\"></iframe>\n",
    "        <p>Apple stock price rose steadily through 2014.</p>\n",
    "    </body>\n",
    "</html>'''"
   ]
  },
  {
   "cell_type": "markdown",
   "metadata": {},
   "source": [
    "Finally, write the html string to a local file."
   ]
  },
  {
   "cell_type": "code",
   "execution_count": null,
   "metadata": {
    "collapsed": false
   },
   "outputs": [],
   "source": [
    "f = open('test.html','w')\n",
    "f.write(html_string)\n",
    "f.close()"
   ]
  },
  {
   "cell_type": "code",
   "execution_count": null,
   "metadata": {
    "collapsed": true
   },
   "outputs": [],
   "source": []
  }
 ],
 "metadata": {
  "kernelspec": {
   "display_name": "Python 3",
   "language": "python",
   "name": "python3"
  },
  "language_info": {
   "codemirror_mode": {
    "name": "ipython",
    "version": 3
   },
   "file_extension": ".py",
   "mimetype": "text/x-python",
   "name": "python",
   "nbconvert_exporter": "python",
   "pygments_lexer": "ipython3",
   "version": "3.4.3"
  }
 },
 "nbformat": 4,
 "nbformat_minor": 0
}
