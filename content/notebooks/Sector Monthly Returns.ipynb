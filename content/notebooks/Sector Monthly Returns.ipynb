{
 "cells": [
  {
   "cell_type": "code",
   "execution_count": 43,
   "metadata": {
    "collapsed": true
   },
   "outputs": [],
   "source": [
    "%matplotlib inline"
   ]
  },
  {
   "cell_type": "code",
   "execution_count": 44,
   "metadata": {
    "collapsed": false
   },
   "outputs": [],
   "source": [
    "import numpy as np\n",
    "import pandas as pd\n",
    "import datetime as dt\n",
    "import matplotlib.pyplot as plt\n",
    "import pandas.io.data as web\n",
    "\n",
    "from pandas.tseries.holiday import USFederalHolidayCalendar\n",
    "from pandas.tseries.offsets import CustomBusinessDay, CustomBusinessMonthBegin"
   ]
  },
  {
   "cell_type": "code",
   "execution_count": 45,
   "metadata": {
    "collapsed": true
   },
   "outputs": [],
   "source": [
    "start_date = dt.datetime(1988, 1, 1)\n",
    "end_date = dt.datetime(2015, 12, 31)"
   ]
  },
  {
   "cell_type": "code",
   "execution_count": 46,
   "metadata": {
    "collapsed": true
   },
   "outputs": [],
   "source": [
    "ticker_list = {\n",
    "                'VUSTX': 'Long-Term Treasury',\n",
    "                'VWESX': 'Long-Term Investment-Grade Fund',\n",
    "                'VWEHX': 'High-Yield Corporate',\n",
    "                '^GSPC': 'S&P Index',\n",
    "              }"
   ]
  },
  {
   "cell_type": "code",
   "execution_count": 47,
   "metadata": {
    "collapsed": false
   },
   "outputs": [],
   "source": [
    "df = pd.io.data.get_data_yahoo(['VUSTX', 'VWESX', 'VWEHX', '^GSPC'], \n",
    "                               start_date, \n",
    "                               end_date)['Adj Close']"
   ]
  },
  {
   "cell_type": "code",
   "execution_count": 48,
   "metadata": {
    "collapsed": false
   },
   "outputs": [
    {
     "data": {
      "text/html": [
       "<div>\n",
       "<table border=\"1\" class=\"dataframe\">\n",
       "  <thead>\n",
       "    <tr style=\"text-align: right;\">\n",
       "      <th></th>\n",
       "      <th>VUSTX</th>\n",
       "      <th>VWEHX</th>\n",
       "      <th>VWESX</th>\n",
       "      <th>^GSPC</th>\n",
       "    </tr>\n",
       "    <tr>\n",
       "      <th>Date</th>\n",
       "      <th></th>\n",
       "      <th></th>\n",
       "      <th></th>\n",
       "      <th></th>\n",
       "    </tr>\n",
       "  </thead>\n",
       "  <tbody>\n",
       "    <tr>\n",
       "      <th>1988-01-04</th>\n",
       "      <td>1.315441</td>\n",
       "      <td>0.744287</td>\n",
       "      <td>1.042935</td>\n",
       "      <td>255.940002</td>\n",
       "    </tr>\n",
       "    <tr>\n",
       "      <th>1988-01-05</th>\n",
       "      <td>1.318310</td>\n",
       "      <td>0.745180</td>\n",
       "      <td>1.044260</td>\n",
       "      <td>258.630005</td>\n",
       "    </tr>\n",
       "    <tr>\n",
       "      <th>1988-01-06</th>\n",
       "      <td>1.309703</td>\n",
       "      <td>0.746965</td>\n",
       "      <td>1.041609</td>\n",
       "      <td>258.890015</td>\n",
       "    </tr>\n",
       "    <tr>\n",
       "      <th>1988-01-07</th>\n",
       "      <td>1.306834</td>\n",
       "      <td>0.746072</td>\n",
       "      <td>1.037634</td>\n",
       "      <td>261.070007</td>\n",
       "    </tr>\n",
       "    <tr>\n",
       "      <th>1988-01-08</th>\n",
       "      <td>1.295358</td>\n",
       "      <td>0.746072</td>\n",
       "      <td>1.032333</td>\n",
       "      <td>243.399994</td>\n",
       "    </tr>\n",
       "  </tbody>\n",
       "</table>\n",
       "</div>"
      ],
      "text/plain": [
       "               VUSTX     VWEHX     VWESX       ^GSPC\n",
       "Date                                                \n",
       "1988-01-04  1.315441  0.744287  1.042935  255.940002\n",
       "1988-01-05  1.318310  0.745180  1.044260  258.630005\n",
       "1988-01-06  1.309703  0.746965  1.041609  258.890015\n",
       "1988-01-07  1.306834  0.746072  1.037634  261.070007\n",
       "1988-01-08  1.295358  0.746072  1.032333  243.399994"
      ]
     },
     "execution_count": 48,
     "metadata": {},
     "output_type": "execute_result"
    }
   ],
   "source": [
    "df.head()"
   ]
  },
  {
   "cell_type": "code",
   "execution_count": 49,
   "metadata": {
    "collapsed": true
   },
   "outputs": [],
   "source": [
    "monthly = df.resample('BM', how=lambda x: x[-1])"
   ]
  },
  {
   "cell_type": "code",
   "execution_count": 50,
   "metadata": {
    "collapsed": false
   },
   "outputs": [
    {
     "data": {
      "text/html": [
       "<div>\n",
       "<table border=\"1\" class=\"dataframe\">\n",
       "  <thead>\n",
       "    <tr style=\"text-align: right;\">\n",
       "      <th></th>\n",
       "      <th>VUSTX</th>\n",
       "      <th>VWEHX</th>\n",
       "      <th>VWESX</th>\n",
       "      <th>^GSPC</th>\n",
       "    </tr>\n",
       "    <tr>\n",
       "      <th>Date</th>\n",
       "      <th></th>\n",
       "      <th></th>\n",
       "      <th></th>\n",
       "      <th></th>\n",
       "    </tr>\n",
       "  </thead>\n",
       "  <tbody>\n",
       "    <tr>\n",
       "      <th>1988-01-29</th>\n",
       "      <td>1.370763</td>\n",
       "      <td>0.768924</td>\n",
       "      <td>1.083714</td>\n",
       "      <td>257.070007</td>\n",
       "    </tr>\n",
       "    <tr>\n",
       "      <th>1988-02-29</th>\n",
       "      <td>1.386725</td>\n",
       "      <td>0.791903</td>\n",
       "      <td>1.102103</td>\n",
       "      <td>267.820007</td>\n",
       "    </tr>\n",
       "    <tr>\n",
       "      <th>1988-03-31</th>\n",
       "      <td>1.355698</td>\n",
       "      <td>0.788785</td>\n",
       "      <td>1.082242</td>\n",
       "      <td>258.890015</td>\n",
       "    </tr>\n",
       "    <tr>\n",
       "      <th>1988-04-29</th>\n",
       "      <td>1.340245</td>\n",
       "      <td>0.793911</td>\n",
       "      <td>1.071962</td>\n",
       "      <td>261.329987</td>\n",
       "    </tr>\n",
       "    <tr>\n",
       "      <th>1988-05-31</th>\n",
       "      <td>1.318948</td>\n",
       "      <td>0.793527</td>\n",
       "      <td>1.059720</td>\n",
       "      <td>262.160004</td>\n",
       "    </tr>\n",
       "  </tbody>\n",
       "</table>\n",
       "</div>"
      ],
      "text/plain": [
       "               VUSTX     VWEHX     VWESX       ^GSPC\n",
       "Date                                                \n",
       "1988-01-29  1.370763  0.768924  1.083714  257.070007\n",
       "1988-02-29  1.386725  0.791903  1.102103  267.820007\n",
       "1988-03-31  1.355698  0.788785  1.082242  258.890015\n",
       "1988-04-29  1.340245  0.793911  1.071962  261.329987\n",
       "1988-05-31  1.318948  0.793527  1.059720  262.160004"
      ]
     },
     "execution_count": 50,
     "metadata": {},
     "output_type": "execute_result"
    }
   ],
   "source": [
    "monthly.head()"
   ]
  },
  {
   "cell_type": "code",
   "execution_count": 51,
   "metadata": {
    "collapsed": false
   },
   "outputs": [],
   "source": [
    "monthly_returns = monthly.pct_change()"
   ]
  },
  {
   "cell_type": "code",
   "execution_count": 55,
   "metadata": {
    "collapsed": false
   },
   "outputs": [
    {
     "data": {
      "text/plain": [
       "VUSTX    0.006867\n",
       "VWEHX    0.006002\n",
       "VWESX    0.006802\n",
       "^GSPC    0.007077\n",
       "dtype: float64"
      ]
     },
     "execution_count": 55,
     "metadata": {},
     "output_type": "execute_result"
    }
   ],
   "source": [
    "monthly_returns.mean()"
   ]
  },
  {
   "cell_type": "code",
   "execution_count": 53,
   "metadata": {
    "collapsed": false
   },
   "outputs": [
    {
     "data": {
      "text/plain": [
       "<matplotlib.axes._subplots.AxesSubplot at 0xa6c5ba8>"
      ]
     },
     "execution_count": 53,
     "metadata": {},
     "output_type": "execute_result"
    },
    {
     "data": {
      "image/png": "[encoded data removed]",
      "text/plain": [
       "<matplotlib.figure.Figure at 0xa6dbdd8>"
      ]
     },
     "metadata": {},
     "output_type": "display_data"
    }
   ],
   "source": [
    "monthly_returns.plot.hist(stacked=True, bins = 10)\n",
    "ply"
   ]
  },
  {
   "cell_type": "code",
   "execution_count": null,
   "metadata": {
    "collapsed": true
   },
   "outputs": [],
   "source": []
  }
 ],
 "metadata": {
  "kernelspec": {
   "display_name": "Python 3",
   "language": "python",
   "name": "python3"
  },
  "language_info": {
   "codemirror_mode": {
    "name": "ipython",
    "version": 3
   },
   "file_extension": ".py",
   "mimetype": "text/x-python",
   "name": "python",
   "nbconvert_exporter": "python",
   "pygments_lexer": "ipython3",
   "version": "3.4.3"
  }
 },
 "nbformat": 4,
 "nbformat_minor": 0
}
